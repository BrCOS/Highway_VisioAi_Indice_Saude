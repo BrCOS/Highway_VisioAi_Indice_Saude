{
 "cells": [
  {
   "cell_type": "code",
   "execution_count": null,
   "id": "66987ede",
   "metadata": {},
   "outputs": [],
   "source": [
    "from google.cloud import bigquery\n",
    "import pandas as pd\n",
    "import os\n",
    "from dotenv import load_dotenv\n",
    "\n",
    "load_dotenv()\n",
    "\n",
    "json = os.getenv(\"JSON_SUPER_SECRETO\")\n",
    "\n",
    "project = os.getenv(\"BQ_PROJECT\")\n",
    "dataset = os.getenv(\"BQ_DATASET\")\n",
    "\n",
    "#tabelas\n",
    "tabela_tratado = os.getenv(\"BQ_TABELA_TRATADO\")\n",
    "\n",
    "client = bigquery.Client.from_service_account_json(json)"
   ]
  },
  {
   "cell_type": "code",
   "execution_count": null,
   "id": "bba33b78",
   "metadata": {},
   "outputs": [],
   "source": [
    "#Query - Full Tratado\n",
    "query_items = f\"\"\"\n",
    "SELECT\n",
    "*\n",
    "FROM `{project}.{dataset}.{tabela_tratado}`\n",
    "ORDER BY data;\n",
    "\"\"\"\n",
    "\n",
    "query_full = client.query(query_items)\n",
    "rows_full = query_full.result()\n",
    "df_full = pd.DataFrame([dict(rows_full) for rows_full in rows_full])"
   ]
  },
  {
   "cell_type": "code",
   "execution_count": 43,
   "id": "ba4337bf",
   "metadata": {},
   "outputs": [
    {
     "name": "stdout",
     "output_type": "stream",
     "text": [
      "period[M]\n"
     ]
    }
   ],
   "source": [
    "#pegando o mes e ano do df p/ indice\n",
    "df_full[\"data\"] = pd.to_datetime(df_full[\"data\"])\n",
    "df_full[\"mes_ano\"] = df_full[\"data\"].dt.to_period(\"M\")\n",
    "\n",
    "print(df_full[\"mes_ano\"].dtype)"
   ]
  },
  {
   "cell_type": "code",
   "execution_count": 39,
   "id": "b41e9020",
   "metadata": {},
   "outputs": [],
   "source": [
    "#criar o indice de saude GERAL e MENSAL (funcao p/ evitar repetição e possíveis erros)\n",
    "def criar_indice_saude(df, group_by):\n",
    "    def nota(x):\n",
    "        return (x - x.min()) / (x.max() - x.min()) * 10\n",
    "\n",
    "    #group by das métricas\n",
    "    df_agregar = df.groupby(group_by).agg(\n",
    "        faturamento=(\"total_value\", \"sum\"),\n",
    "        total_itens=(\"qtd_itens\", \"sum\"),\n",
    "        total_descontos=(\"valor_descontos\", \"sum\"),\n",
    "        torque=(\"net_torque\", \"mean\"),\n",
    "        torque_delivery=(\"net_torque_delivery\", \"mean\"),\n",
    "        torque_em_loja=(\"net_torque_in_store\", \"mean\")\n",
    "    ).reset_index()\n",
    "\n",
    "    #dando uma nota para cada métrica\n",
    "    df_agregar[\"faturamento_nota\"] = nota(df_agregar[\"faturamento\"])\n",
    "    df_agregar[\"torque_nota\"] = nota(df_agregar[\"torque\"])\n",
    "    df_agregar[\"torque_delivery_nota\"] = nota(df_agregar[\"torque_delivery\"])\n",
    "    df_agregar[\"torque_em_loja_nota\"] = nota(df_agregar[\"torque_em_loja\"])\n",
    "    df_agregar[\"total_itens_nota\"] = nota(df_agregar[\"total_itens\"])\n",
    "    df_agregar[\"descontos_nota\"] = nota(df_agregar[\"total_descontos\"])\n",
    "\n",
    "    #criando o indice de saude\n",
    "    df_agregar[\"indice_saude\"] = (\n",
    "        0.3 * df_agregar[\"faturamento_nota\"] +\n",
    "        0.2 * df_agregar[\"torque_nota\"] +\n",
    "        0.2 * df_agregar[\"torque_delivery_nota\"] +\n",
    "        0.2 * df_agregar[\"torque_em_loja_nota\"] +\n",
    "        0.1 * df_agregar[\"total_itens_nota\"] +\n",
    "        0.1 * df_agregar[\"descontos_nota\"]\n",
    "    )\n",
    "\n",
    "    return df_agregar"
   ]
  },
  {
   "cell_type": "code",
   "execution_count": 48,
   "id": "c15bd8eb",
   "metadata": {},
   "outputs": [
    {
     "name": "stdout",
     "output_type": "stream",
     "text": [
      "            shop_id  faturamento  total_itens  total_descontos     torque  \\\n",
      "0   Adidas Shopping   1931131.05     215343.0         22333.86  52.369669   \n",
      "1  Av. Nova Balança   1424611.57     115640.0         22704.88  56.211043   \n",
      "2        Praça Ekin   1520361.61     147853.0         24576.97  48.328948   \n",
      "3  R. Bens Perdidos   1827588.29     141087.0         38150.95  51.572738   \n",
      "\n",
      "   torque_delivery  torque_em_loja  faturamento_nota  torque_nota  \\\n",
      "0        44.172401       50.447593         10.000000     5.126456   \n",
      "1        39.492213       55.703733          0.000000    10.000000   \n",
      "2        47.720985       47.181092          1.890353     0.000000   \n",
      "3        14.764466       51.494213          7.955799     4.115391   \n",
      "\n",
      "   torque_delivery_nota  torque_em_loja_nota  total_itens_nota  \\\n",
      "0              8.923253             3.832734         10.000000   \n",
      "1              7.503143            10.000000          0.000000   \n",
      "2             10.000000             0.000000          3.230896   \n",
      "3              0.000000             5.060780          2.552280   \n",
      "\n",
      "   descontos_nota  indice_saude  \n",
      "0        0.000000      7.576488  \n",
      "1        0.234569      5.524086  \n",
      "2        1.418156      3.032011  \n",
      "3       10.000000      5.477202  \n",
      "           shop_id     mes_ano  faturamento  total_itens  total_descontos  \\\n",
      "0  Adidas Shopping  2024-02-01     30437.06       2149.0           343.50   \n",
      "1  Adidas Shopping  2024-03-01    141672.41       9924.0          2010.02   \n",
      "2  Adidas Shopping  2024-04-01    106264.81       7459.0          1253.00   \n",
      "3  Adidas Shopping  2024-05-01    104965.68       7223.0          1221.00   \n",
      "4  Adidas Shopping  2024-06-01    101569.18       7041.0          1398.00   \n",
      "5  Adidas Shopping  2024-07-01     96709.62       8070.0          1085.00   \n",
      "6  Adidas Shopping  2024-08-01    122928.28      16199.0          2032.00   \n",
      "7  Adidas Shopping  2024-09-01    119578.51      16326.0           971.00   \n",
      "8  Adidas Shopping  2024-10-01     94769.81      12706.0           790.61   \n",
      "9  Adidas Shopping  2024-11-01    133040.84      17173.0          1286.69   \n",
      "\n",
      "      torque  torque_delivery  torque_em_loja  faturamento_nota  torque_nota  \\\n",
      "0  46.579134         0.000000       46.579134          0.000000     1.772182   \n",
      "1  49.792978         4.456528       49.774114          7.046308     2.932458   \n",
      "2  49.382826         0.000000       49.382826          4.803380     2.784383   \n",
      "3  49.821356         0.000000       49.821356          4.721085     2.942703   \n",
      "4  48.031697         0.791328       48.037309          4.505931     2.296592   \n",
      "5  45.344586         0.000000       45.344586          4.198097     1.326480   \n",
      "6  47.750858        49.747026       44.878739          5.858943     2.195203   \n",
      "7  49.931865        67.187780       45.545200          5.646749     2.982600   \n",
      "8  47.015642        66.237267       42.927617          4.075218     1.929772   \n",
      "9  49.439633        68.337187       45.678940          6.499533     2.804892   \n",
      "\n",
      "   torque_delivery_nota  torque_em_loja_nota  total_itens_nota  \\\n",
      "0              0.000000             2.298257          0.000000   \n",
      "1              0.623926             3.373611          4.710979   \n",
      "2              0.000000             3.241913          3.217402   \n",
      "3              0.000000             3.389512          3.074406   \n",
      "4              0.110788             2.789044          2.964130   \n",
      "5              0.000000             1.882737          3.587615   \n",
      "6              6.964717             1.725944          8.513088   \n",
      "7              9.406469             1.950259          8.590039   \n",
      "8              9.273395             1.069242          6.396631   \n",
      "9              9.567389             1.995272          9.103248   \n",
      "\n",
      "   descontos_nota  indice_saude  \n",
      "0        0.000000      0.814088  \n",
      "1        6.013300      4.572319  \n",
      "2        3.281747      3.296188  \n",
      "3        3.166281      3.306837  \n",
      "4        3.804950      3.067972  \n",
      "5        2.675553      2.527589  \n",
      "6        6.092611      5.395425  \n",
      "7        2.264207      5.647315  \n",
      "8        1.613306      4.478041  \n",
      "9        3.403310      6.074026  \n"
     ]
    }
   ],
   "source": [
    "#criar os indices geral e mensal\n",
    "df_lojas_indice_saude_geral = criar_indice_saude(df_full, [\"shop_id\"])\n",
    "df_lojas_indice_saude_mensal = criar_indice_saude(df_full, [\"shop_id\", \"mes_ano\"])\n",
    "df_lojas_indice_saude_mensal['mes_ano'] = df_lojas_indice_saude_mensal['mes_ano'].dt.date\n",
    "\n",
    "print(df_lojas_indice_saude_geral.head(10))\n",
    "print(df_lojas_indice_saude_mensal.head(10))"
   ]
  },
  {
   "cell_type": "code",
   "execution_count": 49,
   "id": "a8f2a54e",
   "metadata": {},
   "outputs": [],
   "source": [
    "#exportar\n",
    "#df_lojas_indice_saude_geral.to_csv(\"indice_saude_lojas_geral.csv\", index=False)\n",
    "df_lojas_indice_saude_mensal.to_csv(\"indice_saude_lojas_mensal.csv\", index=False)"
   ]
  }
 ],
 "metadata": {
  "kernelspec": {
   "display_name": ".venv",
   "language": "python",
   "name": "python3"
  },
  "language_info": {
   "codemirror_mode": {
    "name": "ipython",
    "version": 3
   },
   "file_extension": ".py",
   "mimetype": "text/x-python",
   "name": "python",
   "nbconvert_exporter": "python",
   "pygments_lexer": "ipython3",
   "version": "3.12.4"
  }
 },
 "nbformat": 4,
 "nbformat_minor": 5
}
