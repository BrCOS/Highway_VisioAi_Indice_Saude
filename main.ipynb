{
 "cells": [
  {
   "cell_type": "code",
   "execution_count": null,
   "id": "70013e89",
   "metadata": {},
   "outputs": [],
   "source": [
    "from google.cloud import bigquery\n",
    "import pandas as pd\n",
    "import os\n",
    "from dotenv import load_dotenv\n",
    "\n",
    "load_dotenv()\n",
    "\n",
    "json = os.getenv(\"JSON_SUPER_SECRETO\")\n",
    "\n",
    "project = os.getenv(\"BQ_PROJECT\")\n",
    "dataset = os.getenv(\"BQ_DATASET\")\n",
    "\n",
    "#tabelas\n",
    "tabela_items = os.getenv(\"BQ_TABELA_ITEMS\")\n",
    "tabela_discounts = os.getenv(\"BQ_TABELA_DISCOUNTS\")\n",
    "tabela_payments = os.getenv(\"BQ_TABELA_PAYMENTS\")\n",
    "tabela_torque = os.getenv(\"BQ_TABELA_TORQUE\")\n",
    "tabela_receipts = os.getenv(\"BQ_TABELA_RECEIPTS\")\n",
    "\n",
    "\n",
    "client = bigquery.Client.from_service_account_json(json)"
   ]
  },
  {
   "cell_type": "code",
   "execution_count": 203,
   "id": "ed77cbb1",
   "metadata": {},
   "outputs": [],
   "source": [
    "#Query - Items\n",
    "query_items = f\"\"\"\n",
    "SELECT\n",
    "    name,\n",
    "    quantity,\n",
    "    total_value,\n",
    "    fk_receipt_identifier\n",
    "FROM `{project}.{dataset}.{tabela_items}`\n",
    "WHERE canceled = FALSE\n",
    "ORDER BY name;\n",
    "\"\"\"\n",
    "\n",
    "query_itens_vendidos = client.query(query_items)\n",
    "rows_itens_vendidos = query_itens_vendidos.result()\n",
    "df_itens_vendidos = pd.DataFrame([dict(rows_itens_vendidos) for rows_itens_vendidos in rows_itens_vendidos])"
   ]
  },
  {
   "cell_type": "code",
   "execution_count": null,
   "id": "1a124704",
   "metadata": {},
   "outputs": [],
   "source": [
    "#Queries - Discounts\n",
    "query_discounts = f\"\"\"\n",
    "SELECT\n",
    "    name,\n",
    "    total,\n",
    "    fk_receipt_identifier\n",
    "FROM `{project}.{dataset}.{tabela_discounts}`\n",
    "WHERE canceled = FALSE\n",
    "ORDER BY name;\n",
    "\"\"\"\n",
    "\n",
    "query_descontos = client.query(query_discounts)\n",
    "rows_descontos = query_descontos.result()\n",
    "df_descontos = pd.DataFrame([dict(rows_descontos) for rows_descontos in rows_descontos])"
   ]
  },
  {
   "cell_type": "code",
   "execution_count": null,
   "id": "44cd06db",
   "metadata": {},
   "outputs": [],
   "source": [
    "#Queries - Payments\n",
    "query_payments = f\"\"\"\n",
    "SELECT\n",
    "    method,\n",
    "    value,\n",
    "    fk_receipt_identifier\n",
    "FROM `{project}.{dataset}.{tabela_payments}`\n",
    "ORDER BY method;\n",
    "\"\"\"\n",
    "\n",
    "query_pagamentos = client.query(query_payments)\n",
    "rows_pagamentos = query_pagamentos.result()\n",
    "df_pagamentos = pd.DataFrame([dict(rows_pagamentos) for rows_pagamentos in rows_pagamentos])"
   ]
  },
  {
   "cell_type": "code",
   "execution_count": null,
   "id": "d53cc69d",
   "metadata": {},
   "outputs": [],
   "source": [
    "#Queries - Torque\n",
    "query_torque = f\"\"\"\n",
    "SELECT\n",
    "    shop_id,\n",
    "    net_torque,\n",
    "    net_torque_delivery,\n",
    "    net_torque_in_store,\n",
    "    operation_date\n",
    "FROM `{project}.{dataset}.{tabela_torque}`\n",
    "ORDER BY shop_id;\n",
    "\"\"\"\n",
    "\n",
    "query_torque_resultado = client.query(query_torque)\n",
    "rows_torque_resultado = query_torque_resultado.result()\n",
    "df_torque_resultado = pd.DataFrame([dict(rows_torque_resultado) for rows_torque_resultado in rows_torque_resultado])"
   ]
  },
  {
   "cell_type": "code",
   "execution_count": null,
   "id": "3bde3792",
   "metadata": {},
   "outputs": [],
   "source": [
    "#Queries - Receipts\n",
    "query_receipts = f\"\"\"\n",
    "SELECT\n",
    "    identifier,\n",
    "    shop_id,\n",
    "    total_value,\n",
    "    delivery,\n",
    "    date_time\n",
    "FROM `{project}.{dataset}.{tabela_receipts}`\n",
    "WHERE canceled = False AND staff = FALSE\n",
    "ORDER BY date_time, shop_id;\n",
    "\"\"\"\n",
    "\n",
    "query_recibos = client.query(query_receipts)\n",
    "rows_recibos = query_recibos.result()\n",
    "df_recibos = pd.DataFrame([dict(rows_recibos) for rows_recibos in rows_recibos])"
   ]
  },
  {
   "cell_type": "code",
   "execution_count": 182,
   "id": "0a1f0095",
   "metadata": {},
   "outputs": [],
   "source": [
    "#agregar string unica\n",
    "def unificar_string_unica(df):\n",
    "    return ', '.join(df.unique())"
   ]
  },
  {
   "cell_type": "code",
   "execution_count": 183,
   "id": "30a645e4",
   "metadata": {},
   "outputs": [],
   "source": [
    "#tratar a data da tabela receipts\n",
    "df_recibos[\"operation_date\"] = pd.to_datetime(df_recibos[\"date_time\"]).dt.date"
   ]
  },
  {
   "cell_type": "code",
   "execution_count": 184,
   "id": "dbfed5f3",
   "metadata": {},
   "outputs": [],
   "source": [
    "#Agregar consultas por fk\n",
    "\n",
    "#itens por fk\n",
    "df_items_agregar = df_itens_vendidos.groupby(\"fk_receipt_identifier\").agg(\n",
    "    nome_itens=(\"name\", unificar_string_unica),\n",
    "    qtd_itens=(\"quantity\", \"sum\"),\n",
    "    valor_itens=(\"total_value\", \"sum\")\n",
    ").reset_index().rename(columns={\"fk_receipt_identifier\": \"identifier\"})\n",
    "\n",
    "#descontos por fk\n",
    "df_descontos_agregar = df_descontos.groupby(\"fk_receipt_identifier\").agg(\n",
    "    nome_cupom_descontos=(\"name\", unificar_string_unica),\n",
    "    valor_descontos=(\"total\", \"sum\")\n",
    ").reset_index().rename(columns={\"fk_receipt_identifier\": \"identifier\"})\n",
    "\n",
    "#pagamentos por fk\n",
    "df_pagamentos_agregar = df_pagamentos.groupby(\"fk_receipt_identifier\").agg(\n",
    "    nome_metodo_pagamento=(\"method\", unificar_string_unica),\n",
    "    valor_pagamentos=(\"value\", \"sum\")\n",
    ").reset_index().rename(columns={\"fk_receipt_identifier\": \"identifier\"})"
   ]
  },
  {
   "cell_type": "code",
   "execution_count": null,
   "id": "6d71a7aa",
   "metadata": {},
   "outputs": [],
   "source": [
    "#join por idenfificador - tabela Receipts como base e renomear para evitar KeyError\n",
    "df_full = df_recibos.merge(df_items_agregar, on=\"identifier\", how=\"left\")\n",
    "df_full = df_full.merge(df_descontos_agregar, on=\"identifier\", how=\"left\")\n",
    "df_full = df_full.merge(df_pagamentos_agregar, on=\"identifier\", how=\"left\")\n",
    "\n",
    "df_full = df_full.merge(\n",
    "    df_torque_resultado[[\"shop_id\", \"operation_date\", \"net_torque\", \"net_torque_delivery\", \"net_torque_in_store\"]],\n",
    "    on=[\"shop_id\", \"operation_date\"],#agrupar por data p/ evitar dados duplicados\n",
    "    how=\"left\"\n",
    ")\n",
    "\n",
    "df_full = df_full.drop(columns=[\"fk_receipt_identifier_x\", \"fk_receipt_identifier_y\", \"fk_receipt_identifier\"], errors=\"ignore\")"
   ]
  },
  {
   "cell_type": "code",
   "execution_count": 186,
   "id": "42d6d1b2",
   "metadata": {},
   "outputs": [
    {
     "name": "stdout",
     "output_type": "stream",
     "text": [
      "Qtd receipts: 152897\n",
      "Qtd linhas df_full: 152897\n",
      "Linhas totais df_full: 152897\n",
      "Colunas do df_full: ['identifier', 'shop_id', 'total_value', 'delivery', 'date_time', 'operation_date', 'nome_itens', 'qtd_itens', 'valor_itens', 'nome_cupom_descontos', 'valor_descontos', 'nome_metodo_pagamento', 'valor_pagamentos', 'net_torque', 'net_torque_delivery', 'net_torque_in_store']\n"
     ]
    }
   ],
   "source": [
    "#tratar os nulos\n",
    "df_full = df_full.fillna({\n",
    "    \"nome_itens\": \"\",\n",
    "    \"qtd_itens\": 0,\n",
    "    \"valor_itens\": 0,\n",
    "    \"nome_cupom_descontos\": \"\",\n",
    "    \"valor_descontos\": 0,\n",
    "    \"nome_metodo_pagamento\": \"Não informado\",\n",
    "    \"valor_pagamentos\": 0,\n",
    "    \"delivery\": False,\n",
    "    \"net_torque\": 0,\n",
    "    \"net_torque_delivery\": 0,\n",
    "    \"net_torque_in_store\": 0\n",
    "})\n",
    "\n",
    "print(\"Qtd receipts:\", df_recibos[\"identifier\"].nunique())\n",
    "print(\"Qtd linhas df_full:\", df_full[\"identifier\"].nunique())\n",
    "print(\"Linhas totais df_full:\", len(df_full))\n",
    "print(\"Colunas do df_full:\", df_full.columns.tolist())"
   ]
  },
  {
   "cell_type": "code",
   "execution_count": 187,
   "id": "f04fedd5",
   "metadata": {},
   "outputs": [
    {
     "name": "stdout",
     "output_type": "stream",
     "text": [
      "datetime64[ns, UTC]\n"
     ]
    }
   ],
   "source": [
    "list(df_full)\n",
    "print(df_full[\"date_time\"].dtype)"
   ]
  },
  {
   "cell_type": "code",
   "execution_count": 188,
   "id": "33f3f504",
   "metadata": {},
   "outputs": [
    {
     "name": "stdout",
     "output_type": "stream",
     "text": [
      "0         16\n",
      "1         16\n",
      "2         16\n",
      "3         17\n",
      "4         18\n",
      "          ..\n",
      "152892    23\n",
      "152893    23\n",
      "152894    23\n",
      "152895    23\n",
      "152896    23\n",
      "Name: hora, Length: 152897, dtype: int32\n",
      "0         Tarde\n",
      "1         Tarde\n",
      "2         Tarde\n",
      "3         Tarde\n",
      "4         Noite\n",
      "          ...  \n",
      "152892    Noite\n",
      "152893    Noite\n",
      "152894    Noite\n",
      "152895    Noite\n",
      "152896    Noite\n",
      "Name: periodo, Length: 152897, dtype: object\n"
     ]
    }
   ],
   "source": [
    "#definir horário da emissão com base nos recibos\n",
    "df_full[\"hora\"] = df_full[\"date_time\"].dt.hour\n",
    "print(df_full[\"hora\"])\n",
    "\n",
    "#horas - período\n",
    "def periodo(hora):\n",
    "    if 6 <= hora < 12:\n",
    "        return \"Manhã\"\n",
    "    elif 12 <= hora < 18:\n",
    "        return \"Tarde\"\n",
    "    elif 18 <= hora < 24:\n",
    "        return \"Noite\"\n",
    "    else:#0h - 5h59\n",
    "        return \"Madrugada\"\n",
    "    \n",
    "df_full[\"periodo\"] = df_full[\"hora\"].apply(periodo)\n",
    "\n",
    "print(df_full[\"periodo\"])"
   ]
  },
  {
   "cell_type": "code",
   "execution_count": 189,
   "id": "ee3bb9fe",
   "metadata": {},
   "outputs": [
    {
     "name": "stdout",
     "output_type": "stream",
     "text": [
      "0         2024-01-01\n",
      "1         2024-01-01\n",
      "2         2024-01-01\n",
      "3         2024-01-01\n",
      "4         2024-01-01\n",
      "             ...    \n",
      "152892    2025-06-30\n",
      "152893    2025-06-30\n",
      "152894    2025-06-30\n",
      "152895    2025-06-30\n",
      "152896    2025-06-30\n",
      "Name: data, Length: 152897, dtype: object\n"
     ]
    }
   ],
   "source": [
    "#manter somente a data em date_time\n",
    "df_full[\"date_time\"] = df_full[\"date_time\"].dt.date\n",
    "\n",
    "df_full.rename(columns={\"date_time\": \"data\"}, inplace=True)\n",
    "\n",
    "df_full = df_full.drop(columns=[\"operation_date\", \"hora\"], errors=\"ignore\")\n",
    "\n",
    "print(df_full[\"data\"])"
   ]
  },
  {
   "cell_type": "code",
   "execution_count": 191,
   "id": "3d9b2f6d",
   "metadata": {},
   "outputs": [],
   "source": [
    "#renomear nome lojas\n",
    "df_full[\"shop_id\"] = df_full[\"shop_id\"].replace({\n",
    "    \"highway-praca-ekin\": \"Praça Ekin\",\n",
    "    \"highway-avenida-nova-balanca\": \"Av. Nova Balança\",\n",
    "    \"highway-rua-bens-perdidos\": \"R. Bens Perdidos\",\n",
    "    \"highway-adidas-shopping\": \"Adidas Shopping\"\n",
    "})"
   ]
  },
  {
   "cell_type": "code",
   "execution_count": 193,
   "id": "4f7ac30b",
   "metadata": {},
   "outputs": [
    {
     "name": "stdout",
     "output_type": "stream",
     "text": [
      "                             identifier     shop_id  total_value  delivery  \\\n",
      "0  576edc4e-e971-11ee-9aa3-0242ac1c000c  Praça Ekin         58.6      True   \n",
      "1  576eda00-e971-11ee-9aa3-0242ac1c000c  Praça Ekin         47.5      True   \n",
      "2  576ed7bc-e971-11ee-9aa3-0242ac1c000c  Praça Ekin         35.0     False   \n",
      "3  576ed618-e971-11ee-9aa3-0242ac1c000c  Praça Ekin         20.0     False   \n",
      "4  576ed2e4-e971-11ee-9aa3-0242ac1c000c  Praça Ekin         23.0     False   \n",
      "5  576ec7ea-e971-11ee-9aa3-0242ac1c000c  Praça Ekin         50.5      True   \n",
      "6  576f1b6e-e971-11ee-9aa3-0242ac1c000c  Praça Ekin         37.5     False   \n",
      "7  576f1934-e971-11ee-9aa3-0242ac1c000c  Praça Ekin         55.7      True   \n",
      "8  576f15e2-e971-11ee-9aa3-0242ac1c000c  Praça Ekin         62.4      True   \n",
      "9  576f1088-e971-11ee-9aa3-0242ac1c000c  Praça Ekin         70.2      True   \n",
      "\n",
      "         data                                         nome_itens  qtd_itens  \\\n",
      "0  2024-01-01        c/ frango teriyaki, sanduiches delivery 30%        3.0   \n",
      "1  2024-01-01           c/ 30 cm frango, sanduiches delivery 30%        2.0   \n",
      "2  2024-01-01                       barato 30 cm frango teriyaki        1.0   \n",
      "3  2024-01-01                                          churrasco        1.0   \n",
      "4  2024-01-01            ad. bacon 15 cm, barato frango teriyaki        2.0   \n",
      "5  2024-01-01  c/ empanado de frango, c/ steak cheddar cremos...        3.0   \n",
      "6  2024-01-01           30 cm mais baratissimo, coca cola 600 ml        2.0   \n",
      "7  2024-01-01  c/ churrasco, c/ empanado de frango, c/ ruffle...        5.0   \n",
      "8  2024-01-01  c/ ad. cheddar cremoso 15 cm, c/ frango defuma...        4.0   \n",
      "9  2024-01-01  c/ 30 cm carne supreme, c/ cookie chocolate, c...        5.0   \n",
      "\n",
      "   valor_itens nome_cupom_descontos  valor_descontos nome_metodo_pagamento  \\\n",
      "0         58.6                                   0.0              DELIVERY   \n",
      "1         47.5                                   0.0              DELIVERY   \n",
      "2         35.0                                   0.0                   PIX   \n",
      "3         20.0                                   0.0     MASTERCARD DEBITO   \n",
      "4         23.0                                   0.0                   PIX   \n",
      "5         50.5                                   0.0              DELIVERY   \n",
      "6         37.5                                   0.0     MASTERCARD DEBITO   \n",
      "7         55.7                                   0.0              DELIVERY   \n",
      "8         62.4                                   0.0              DELIVERY   \n",
      "9         70.2                                   0.0              DELIVERY   \n",
      "\n",
      "   valor_pagamentos  net_torque  net_torque_delivery  net_torque_in_store  \\\n",
      "0              58.6    46.26129            56.896296            38.057143   \n",
      "1              47.5    46.26129            56.896296            38.057143   \n",
      "2              35.0    46.26129            56.896296            38.057143   \n",
      "3              20.0    46.26129            56.896296            38.057143   \n",
      "4              23.0    46.26129            56.896296            38.057143   \n",
      "5              50.5    46.26129            56.896296            38.057143   \n",
      "6              37.5    46.26129            56.896296            38.057143   \n",
      "7              55.7    46.26129            56.896296            38.057143   \n",
      "8              62.4    46.26129            56.896296            38.057143   \n",
      "9              70.2    46.26129            56.896296            38.057143   \n",
      "\n",
      "  periodo  \n",
      "0   Tarde  \n",
      "1   Tarde  \n",
      "2   Tarde  \n",
      "3   Tarde  \n",
      "4   Noite  \n",
      "5   Noite  \n",
      "6   Noite  \n",
      "7   Noite  \n",
      "8   Noite  \n",
      "9   Noite  \n"
     ]
    }
   ],
   "source": [
    "list(df_full)\n",
    "print(df_full.head(10))"
   ]
  },
  {
   "cell_type": "code",
   "execution_count": 194,
   "id": "f7a2827e",
   "metadata": {},
   "outputs": [],
   "source": [
    "df_full.to_csv(\"visio_full.csv\", index=False)"
   ]
  }
 ],
 "metadata": {
  "kernelspec": {
   "display_name": ".venv",
   "language": "python",
   "name": "python3"
  },
  "language_info": {
   "codemirror_mode": {
    "name": "ipython",
    "version": 3
   },
   "file_extension": ".py",
   "mimetype": "text/x-python",
   "name": "python",
   "nbconvert_exporter": "python",
   "pygments_lexer": "ipython3",
   "version": "3.12.4"
  }
 },
 "nbformat": 4,
 "nbformat_minor": 5
}
